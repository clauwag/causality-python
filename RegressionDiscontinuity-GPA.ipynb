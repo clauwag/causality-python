{
 "cells": [
  {
   "cell_type": "markdown",
   "metadata": {},
   "source": [
    "## Regression Discontinuity (RD)\n",
    "\n",
    "\n",
    "Regression Discontinuity analysis  can be used to analyze data from Natural Experiments in which some kind of cutoff determines who goes into one group versus another. It is important that subjects cannot choose on which side of the cutoff the end up. Therefore, no self-selection bias is present and the assignment of subjects is \"as-if-random\".\n",
    "\n",
    "Instead of looking at the effect of the predictor on the outcome for the entire population, we compare predicted outcomes of subjects near the cutoff. Since it is unclear what near the cutoff means, we need to try different bandwidths and compare results.\n",
    "\n",
    "RD regresses the outcome on two predictors: a coarsened assignment variables and the dummy coded assignment variable (treated or not treated). Again, how much we coarsen the assignment variable may have an impact on the results and therefore we need to try different levels of coarsening.\n",
    "\n",
    "### Example\n",
    "- Loyola Law School (LLS) wanted to help struggling students perform better in their second year \n",
    "- Those with first-semester GPAs below 2.75 were required to take an additional course in Spring designed to build skills \n",
    "- All students with low GPAs were required to take the course, and no students with higher GPAs were allowed \n",
    "- The outcome was GPA in Fall of their second year\n",
    "\n",
    "\n",
    "Source: Cannot find the source anymore... :( Found the example somewhere online. \n",
    "Data: https://drive.google.com/file/d/0B0BUhVJfHkISVjhDNXQ1SXNQWmc/view\n",
    "\n",
    "\n",
    "### Data\n",
    "- 'intervention' is a binary variable which is 1 if the GPA of students was below 2.75 and 0 otherwise\n",
    "- 'pregpa' is the variable on which we define the threshold\n",
    "- 'postgpa_a' and 'postgpa_b' are the outcome variables\n",
    "\n",
    "\n",
    "### Research Question:\n",
    "Did the additional course help the students to improve their skills?\n",
    "\n"
   ]
  },
  {
   "cell_type": "code",
   "execution_count": 63,
   "metadata": {
    "collapsed": false
   },
   "outputs": [
    {
     "name": "stdout",
     "output_type": "stream",
     "text": [
      "Populating the interactive namespace from numpy and matplotlib\n",
      "    sid    pregpa  intervention  postgpa_a  postgpa_b  gpa_change\n",
      "0  1001  3.155467             0         87         87           0\n",
      "1  1002  3.000000             0         77         77           0\n",
      "2  1003  2.420000             1         78         79           1\n",
      "3  1004  2.533533             1         78         78           0\n",
      "4  1005  2.422267             1         79         80           1\n",
      "==============================================================================\n",
      "                              OVERALL SUMMARY\n",
      "==============================================================================\n",
      "               sid      pregpa  intervention   postgpa_a   postgpa_b  \\\n",
      "count   218.000000  218.000000    218.000000  218.000000  218.000000   \n",
      "mean   1146.729358    3.153694      0.206422   82.715596   82.912844   \n",
      "std      86.068642    0.470539      0.405668    6.045285    4.927747   \n",
      "min    1001.000000    1.977733      0.000000   62.000000   75.000000   \n",
      "25%    1071.500000    2.866533      0.000000   78.000000   79.000000   \n",
      "50%    1153.500000    3.155567      0.000000   82.000000   82.000000   \n",
      "75%    1219.500000    3.466567      0.000000   87.000000   87.000000   \n",
      "max    1293.000000    4.177933      1.000000   96.000000   94.000000   \n",
      "\n",
      "       gpa_change  \n",
      "count  218.000000  \n",
      "mean     0.197248  \n",
      "std      3.460454  \n",
      "min    -15.000000  \n",
      "25%      0.000000  \n",
      "50%      0.000000  \n",
      "75%      0.000000  \n",
      "max     17.000000  \n"
     ]
    }
   ],
   "source": [
    "# THE SOFTWARE IS PROVIDED \"AS IS\", WITHOUT WARRANTY OF ANY KIND, EXPRESS OR IMPLIED, INCLUDING BUT NOT LIMITED \n",
    "# TO THE WARRANTIES OF MERCHANTABILITY, FITNESS FOR A PARTICULAR PURPOSE AND NONINFRINGEMENT. \n",
    "# IN NO EVENT SHALL THE AUTHORS OR COPYRIGHT HOLDERS BE LIABLE FOR ANY CLAIM, DAMAGES OR OTHER LIABILITY, \n",
    "# WHETHER IN AN ACTION OF CONTRACT, TORT OR OTHERWISE, ARISING FROM, OUT OF OR IN CONNECTION WITH THE \n",
    "# SOFTWARE OR THE USE OR OTHER DEALINGS IN THE SOFTWARE.\n",
    "\n",
    "%pylab inline\n",
    "\n",
    "import codecs                     # load UTF-8 Content\n",
    "import json                       # load JSON files\n",
    "import pandas as pd               # Pandas handles dataframes\n",
    "import numpy as np                # Numpy handles lots of basic maths operations\n",
    "import matplotlib.pyplot as plt   # Matplotlib for plotting\n",
    "\n",
    "import math                       # transformations\n",
    "import statsmodels.formula.api as smf  # for doing statistical regression\n",
    "import statsmodels.api as sm      # access to the wider statsmodels library, including R datasets\n",
    "from collections import Counter   # Counter is useful for grouping and counting\n",
    "import scipy\n",
    "\n",
    "\n",
    "df = pd.read_csv(\"./sampledata.csv\")\n",
    "\n",
    "df[\"gpa_change\"] = df[\"postgpa_b\"] - df[\"postgpa_a\"]\n",
    "print (df.head())\n",
    "\n",
    "print (\"==============================================================================\")\n",
    "print (\"                              OVERALL SUMMARY\" )\n",
    "print (\"==============================================================================\")\n",
    "print (df.describe())"
   ]
  },
  {
   "cell_type": "markdown",
   "metadata": {},
   "source": [
    "#### Explore the potential effect of the intervention\n",
    "\n",
    "First we simply compare the 2 groups. Did people who took the additional course perform worse? "
   ]
  },
  {
   "cell_type": "code",
   "execution_count": 64,
   "metadata": {
    "collapsed": false
   },
   "outputs": [
    {
     "data": {
      "image/png": "[encoded data removed]",
      "text/plain": [
       "<matplotlib.figure.Figure at 0xab120f0>"
      ]
     },
     "metadata": {},
     "output_type": "display_data"
    },
    {
     "data": {
      "image/png": "[encoded data removed]",
      "text/plain": [
       "<matplotlib.figure.Figure at 0xd3005c0>"
      ]
     },
     "metadata": {},
     "output_type": "display_data"
    },
    {
     "data": {
      "image/png": "[encoded data removed]",
      "text/plain": [
       "<matplotlib.figure.Figure at 0xadb9780>"
      ]
     },
     "metadata": {},
     "output_type": "display_data"
    },
    {
     "data": {
      "image/png": "[encoded data removed]",
      "text/plain": [
       "<matplotlib.figure.Figure at 0xa5b55c0>"
      ]
     },
     "metadata": {},
     "output_type": "display_data"
    }
   ],
   "source": [
    "df.boxplot(\"pregpa\", \"intervention\")\n",
    "plt.show()\n",
    "\n",
    "df.boxplot(\"postgpa_a\", \"intervention\")\n",
    "plt.show()\n",
    "\n",
    "df.boxplot(\"postgpa_b\", \"intervention\")\n",
    "plt.show()\n",
    "\n",
    "\n",
    "df.boxplot(\"gpa_change\", \"intervention\")\n",
    "plt.show()"
   ]
  },
  {
   "cell_type": "markdown",
   "metadata": {},
   "source": [
    "There is a clear relation between performance and beeing selected. Students in the treatment group probably have lower abilities and therefore will also perform worse in the post test. However we can compare the performance change of people in the treatment and control group (gpy_change). Here we see that the median increase was higher for people in the treatment group.  \n",
    "\n",
    "However, also when looking at the performance increase ability and interest may act as confounding variables. Students who have higher abilities may improve and learn faster than those with lower abilities.\n",
    "\n",
    "Solution: Let's only compare those people who were closed to the threshold. These students are very similar and only the \"luck factor\" differentiated them."
   ]
  },
  {
   "cell_type": "markdown",
   "metadata": {},
   "source": [
    "### Regression Discontinuity Analysis\n",
    "\n",
    "We only want to compare people near the threshold (aka cutoff). So we conduct the following steps:\n",
    "\n",
    "1) Transform the pre-treatment value (x). Subtract cutoff score from pre-treatment score\n",
    "2) Dummy code the assignment variable. 0 means no treatment, 1 means treatment.\n",
    "3) Use dummy coded assigment variable and coarsened independent variable to model the outcome variable\n",
    "4) Check if relatioship between indpedent variable and outcome variable is linear. Does adding high order polynomial terms change the results? (robustness check)\n",
    "5) Pick random points as thresholds (placebo points). Do we also observe a discontinuity there?\n"
   ]
  },
  {
   "cell_type": "code",
   "execution_count": 70,
   "metadata": {
    "collapsed": false
   },
   "outputs": [
    {
     "name": "stdout",
     "output_type": "stream",
     "text": [
      "      sid    pregpa  intervention  postgpa_a  postgpa_b  gpa_change  \\\n",
      "160  1215  2.000000             1         75         77           2   \n",
      "195  1262  1.977733             1         76         77           1   \n",
      "132  1181  2.088800             1         73         80           7   \n",
      "148  1201  2.133133             1         75         81           6   \n",
      "33   1041  2.111067             1         76         80           4   \n",
      "\n",
      "     pregpa_trans  pregpa_trans_round  \n",
      "160     -0.750000                -0.8  \n",
      "195     -0.772267                -0.8  \n",
      "132     -0.661200                -0.7  \n",
      "148     -0.616867                -0.6  \n",
      "33      -0.638933                -0.6  \n"
     ]
    },
    {
     "data": {
      "image/png": "[encoded data removed]",
      "text/plain": [
       "<matplotlib.figure.Figure at 0xa8dbd30>"
      ]
     },
     "metadata": {},
     "output_type": "display_data"
    }
   ],
   "source": [
    "bandwidth_min = 2.5 #2.55\n",
    "bandwidth_max =  2.9 #2.95\n",
    "cutoff = 2.75\n",
    "\n",
    "\n",
    "#df[(df['pregpa'] >= bandwidth_min) & (df['pregpa'] <= bandwidth_max)].boxplot(\"postgpa_a\", \"intervention\")\n",
    "#plt.show()\n",
    "\n",
    "\n",
    "# Step 1: Transform the pre-treatment value\n",
    "df[\"pregpa_trans\"] = df[\"pregpa\"] - cutoff\n",
    "\n",
    "\n",
    "# Coarsen it, since this will be our independent variable\n",
    "df[\"pregpa_trans_round\"] =  np.round(df.pregpa_trans.values, 1)\n",
    "\n",
    "\n",
    "\n",
    "print(df.head())\n",
    "\n",
    "df.boxplot(\"gpa_change\", \"pregpa_trans_round\", rot=75)\n",
    "plt.axvline(x=9,color=\"blue\", linestyle=\"-\")\n",
    "plt.show()\n",
    "\n",
    "\n",
    "# Step 2: dummy var exists already and is called \"intervention\"\n",
    "# however we could also create it easily\n",
    "# df[\"intervention_test\"] = df[\"pregpa\"] < cutoff\n"
   ]
  },
  {
   "cell_type": "markdown",
   "metadata": {},
   "source": [
    "We want to compare students that were unlucky and not selected (e.g., 0, 0.1) with those who were selected (-0.1, -0.2).\n",
    "\n"
   ]
  },
  {
   "cell_type": "code",
   "execution_count": 77,
   "metadata": {
    "collapsed": false
   },
   "outputs": [
    {
     "name": "stdout",
     "output_type": "stream",
     "text": [
      "                            OLS Regression Results                            \n",
      "==============================================================================\n",
      "Dep. Variable:             gpa_change   R-squared:                       0.057\n",
      "Model:                            OLS   Adj. R-squared:                  0.043\n",
      "Method:                 Least Squares   F-statistic:                     4.276\n",
      "Date:                Wed, 09 Mar 2016   Prob (F-statistic):            0.00588\n",
      "Time:                        08:53:35   Log-Likelihood:                -573.11\n",
      "No. Observations:                 218   AIC:                             1154.\n",
      "Df Residuals:                     214   BIC:                             1168.\n",
      "Df Model:                           3                                         \n",
      "Covariance Type:            nonrobust                                         \n",
      "===================================================================================================\n",
      "                                      coef    std err          t      P>|t|      [95.0% Conf. Int.]\n",
      "---------------------------------------------------------------------------------------------------\n",
      "Intercept                           0.8878      0.505      1.757      0.080        -0.108     1.884\n",
      "pregpa_trans_round                 -1.0159      0.752     -1.350      0.178        -2.499     0.467\n",
      "intervention                       -3.1859      0.970     -3.285      0.001        -5.097    -1.274\n",
      "pregpa_trans_round:intervention    -6.6602      2.516     -2.647      0.009       -11.619    -1.702\n",
      "==============================================================================\n",
      "Omnibus:                       62.626   Durbin-Watson:                   1.801\n",
      "Prob(Omnibus):                  0.000   Jarque-Bera (JB):              505.270\n",
      "Skew:                           0.833   Prob(JB):                    1.91e-110\n",
      "Kurtosis:                      10.270   Cond. No.                         12.5\n",
      "==============================================================================\n",
      "\n",
      "Warnings:\n",
      "[1] Standard Errors assume that the covariance matrix of the errors is correctly specified.\n",
      "\n",
      " \n",
      " treatment group only\n",
      "                            OLS Regression Results                            \n",
      "==============================================================================\n",
      "Dep. Variable:             gpa_change   R-squared:                       0.160\n",
      "Model:                            OLS   Adj. R-squared:                  0.139\n",
      "Method:                 Least Squares   F-statistic:                     7.446\n",
      "Date:                Wed, 09 Mar 2016   Prob (F-statistic):            0.00948\n",
      "Time:                        08:53:35   Log-Likelihood:                -106.09\n",
      "No. Observations:                  41   AIC:                             216.2\n",
      "Df Residuals:                      39   BIC:                             219.6\n",
      "Df Model:                           1                                         \n",
      "Covariance Type:            nonrobust                                         \n",
      "======================================================================================\n",
      "                         coef    std err          t      P>|t|      [95.0% Conf. Int.]\n",
      "--------------------------------------------------------------------------------------\n",
      "Intercept             -1.9988      0.925     -2.161      0.037        -3.870    -0.128\n",
      "pregpa_trans_round    -6.9880      2.561     -2.729      0.009       -12.168    -1.808\n",
      "==============================================================================\n",
      "Omnibus:                       11.340   Durbin-Watson:                   1.665\n",
      "Prob(Omnibus):                  0.003   Jarque-Bera (JB):               10.917\n",
      "Skew:                          -1.163   Prob(JB):                      0.00426\n",
      "Kurtosis:                       3.991   Cond. No.                         5.43\n",
      "==============================================================================\n",
      "\n",
      "Warnings:\n",
      "[1] Standard Errors assume that the covariance matrix of the errors is correctly specified.\n",
      "\n",
      " \n",
      " control group only\n",
      "                            OLS Regression Results                            \n",
      "==============================================================================\n",
      "Dep. Variable:             gpa_change   R-squared:                       0.003\n",
      "Model:                            OLS   Adj. R-squared:                 -0.002\n",
      "Method:                 Least Squares   F-statistic:                    0.6120\n",
      "Date:                Wed, 09 Mar 2016   Prob (F-statistic):              0.435\n",
      "Time:                        08:53:35   Log-Likelihood:                -469.43\n",
      "No. Observations:                 177   AIC:                             942.9\n",
      "Df Residuals:                     175   BIC:                             949.2\n",
      "Df Model:                           1                                         \n",
      "Covariance Type:            nonrobust                                         \n",
      "======================================================================================\n",
      "                         coef    std err          t      P>|t|      [95.0% Conf. Int.]\n",
      "--------------------------------------------------------------------------------------\n",
      "Intercept              0.5490      0.494      1.112      0.268        -0.426     1.524\n",
      "pregpa_trans_round    -0.5818      0.744     -0.782      0.435        -2.050     0.886\n",
      "==============================================================================\n",
      "Omnibus:                       71.040   Durbin-Watson:                   1.724\n",
      "Prob(Omnibus):                  0.000   Jarque-Bera (JB):              539.264\n",
      "Skew:                           1.257   Prob(JB):                    7.95e-118\n",
      "Kurtosis:                      11.173   Cond. No.                         3.87\n",
      "==============================================================================\n",
      "\n",
      "Warnings:\n",
      "[1] Standard Errors assume that the covariance matrix of the errors is correctly specified.\n"
     ]
    }
   ],
   "source": [
    "#Step 3: Model outcome variable as linear combination of dummy coded assignment var and corased assignment var\n",
    "\n",
    "\n",
    "result = smf.ols(formula = \"gpa_change ~ pregpa_trans_round + intervention + pregpa_trans_round*intervention\", \n",
    "                 data = df).fit()\n",
    "print (result.summary())\n",
    "\n",
    "\n",
    "\n",
    "print (\"\\n \\n treatment group only\")\n",
    "result_treated = smf.ols(formula = \"gpa_change ~ pregpa_trans_round\", \n",
    "                 data = df[df.pregpa_trans_round < 0]).fit()\n",
    "print (result_treated.summary())\n",
    "\n",
    "\n",
    "print (\"\\n \\n control group only\")\n",
    "result_control = smf.ols(formula = \"gpa_change ~ pregpa_trans_round\", \n",
    "                 data = df[df.pregpa_trans_round >= 0]).fit()\n",
    "print (result_control.summary())\n",
    "\n"
   ]
  },
  {
   "cell_type": "markdown",
   "metadata": {},
   "source": [
    "From the first model (full model) one can see that the intervention has a significant impact on the outcome also if we control for the coarsened assignment variable. The main effect of the intervention is significant (i.e., there is a jump in the cutoff). There is also a significant interaction effect which indicates that the slope of the line changes in the cutoff.\n",
    "\n",
    "\n",
    "In the control group the assignment variable has no effect. In the treatment group there is a significant negative effect of the pregpa on the performance increase. That means that only students who were worse benefited most from the additional course."
   ]
  },
  {
   "cell_type": "code",
   "execution_count": 80,
   "metadata": {
    "collapsed": false
   },
   "outputs": [
    {
     "name": "stdout",
     "output_type": "stream",
     "text": [
      "41\n"
     ]
    },
    {
     "name": "stderr",
     "output_type": "stream",
     "text": [
      "C:\\Users\\wagnerca\\AppData\\Local\\Continuum\\Miniconda3\\lib\\site-packages\\ipykernel\\__main__.py:3: FutureWarning: sort(columns=....) is deprecated, use sort_values(by=.....)\n",
      "  app.launch_new_instance()\n"
     ]
    },
    {
     "data": {
      "text/plain": [
       "<matplotlib.text.Text at 0xebb27f0>"
      ]
     },
     "execution_count": 80,
     "metadata": {},
     "output_type": "execute_result"
    },
    {
     "data": {
      "image/png": "[encoded data removed]",
      "text/plain": [
       "<matplotlib.figure.Figure at 0xaabce80>"
      ]
     },
     "metadata": {},
     "output_type": "display_data"
    }
   ],
   "source": [
    "# Visualize results\n",
    "\n",
    "df.sort(columns =['pregpa_trans_round'], axis=0, inplace=True)\n",
    "df_control = df[df.pregpa_trans_round >= 0]\n",
    "df_treated = df[df.pregpa_trans_round < 0]\n",
    "\n",
    "\n",
    "plt.figure(num=None, figsize=(12, 6), dpi=80, facecolor='w', edgecolor='k')\n",
    "plt.scatter(df['pregpa_trans_round'], df['gpa_change'], color=\"blue\")\n",
    "\n",
    "\n",
    "l=np.size(df[df.pregpa_trans_round < 0].pregpa_trans_round)\n",
    "print (l)\n",
    "\n",
    "\n",
    "\n",
    "plt.plot(df_treated.pregpa_trans_round, result_treated.predict(), '-', color=\"r\") #df.pregpa_trans_round[:l]\n",
    "plt.plot(df_control.pregpa_trans_round, result_control.predict(), '-', color=\"r\")\n",
    "\n",
    "plt.plot(df.pregpa_trans_round[:l], result.predict()[:l], '-', color=\"g\")\n",
    "plt.plot(df.pregpa_trans_round[l:], result.predict()[l:], '-', color=\"g\")\n",
    "\n",
    "plt.axvline(x=0,color=\"black\", linestyle=\"--\")\n",
    "plt.title(\"Regression Discontinuity: GPA Before and After the Cutoff\", fontsize=\"18\")"
   ]
  },
  {
   "cell_type": "code",
   "execution_count": 81,
   "metadata": {
    "collapsed": false
   },
   "outputs": [
    {
     "name": "stdout",
     "output_type": "stream",
     "text": [
      "                            OLS Regression Results                            \n",
      "==============================================================================\n",
      "Dep. Variable:             gpa_change   R-squared:                       0.051\n",
      "Model:                            OLS   Adj. R-squared:                  0.038\n",
      "Method:                 Least Squares   F-statistic:                     3.850\n",
      "Date:                Wed, 09 Mar 2016   Prob (F-statistic):             0.0103\n",
      "Time:                        08:55:43   Log-Likelihood:                -573.72\n",
      "No. Observations:                 218   AIC:                             1155.\n",
      "Df Residuals:                     214   BIC:                             1169.\n",
      "Df Model:                           3                                         \n",
      "Covariance Type:            nonrobust                                         \n",
      "================================================================================================================\n",
      "                                                   coef    std err          t      P>|t|      [95.0% Conf. Int.]\n",
      "----------------------------------------------------------------------------------------------------------------\n",
      "Intercept                                        0.7201      0.354      2.033      0.043         0.022     1.418\n",
      "np.power(pregpa_trans_round, 2)                 -0.9301      0.538     -1.729      0.085        -1.990     0.130\n",
      "intervention                                    -1.9480      0.719     -2.709      0.007        -3.366    -0.530\n",
      "np.power(pregpa_trans_round, 2):intervention     9.5758      3.146      3.044      0.003         3.376    15.776\n",
      "==============================================================================\n",
      "Omnibus:                       62.320   Durbin-Watson:                   1.858\n",
      "Prob(Omnibus):                  0.000   Jarque-Bera (JB):              498.103\n",
      "Skew:                           0.830   Prob(JB):                    6.89e-109\n",
      "Kurtosis:                      10.217   Cond. No.                         15.2\n",
      "==============================================================================\n",
      "\n",
      "Warnings:\n",
      "[1] Standard Errors assume that the covariance matrix of the errors is correctly specified.\n"
     ]
    }
   ],
   "source": [
    "# Step 4: is relationship is linear? Visualize it\n",
    "# compare R2 of linear model with model that adds higher order polynomials\n",
    "# do the effects change?\n",
    "\n",
    "result_nonlin = smf.ols(formula = \"gpa_change ~  np.power(pregpa_trans_round, 2)  + intervention + np.power(pregpa_trans_round, 2)*intervention\", \n",
    "                 data = df).fit()\n",
    "print (result_nonlin.summary())"
   ]
  },
  {
   "cell_type": "markdown",
   "metadata": {},
   "source": [
    "The fit of the model does not improve by adding higher order polynomial terms"
   ]
  },
  {
   "cell_type": "code",
   "execution_count": null,
   "metadata": {
    "collapsed": false
   },
   "outputs": [],
   "source": []
  },
  {
   "cell_type": "markdown",
   "metadata": {},
   "source": []
  }
 ],
 "metadata": {
  "kernelspec": {
   "display_name": "Python 3",
   "language": "python",
   "name": "python3"
  },
  "language_info": {
   "codemirror_mode": {
    "name": "ipython",
    "version": 3
   },
   "file_extension": ".py",
   "mimetype": "text/x-python",
   "name": "python",
   "nbconvert_exporter": "python",
   "pygments_lexer": "ipython3",
   "version": "3.4.4"
  }
 },
 "nbformat": 4,
 "nbformat_minor": 0
}
